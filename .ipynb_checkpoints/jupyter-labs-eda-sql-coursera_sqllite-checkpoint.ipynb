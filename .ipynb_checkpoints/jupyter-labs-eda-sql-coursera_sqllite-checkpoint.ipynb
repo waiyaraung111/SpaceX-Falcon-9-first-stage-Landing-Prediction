{
 "cells": [
  {
   "cell_type": "markdown",
   "id": "9fc90c06-6f83-4a86-a52d-df565b59b799",
   "metadata": {},
   "source": [
    "<p style=\"text-align:center\">\n",
    "    <a href=\"https://skills.network\" target=\"_blank\">\n",
    "    <img src=\"https://cf-courses-data.s3.us.cloud-object-storage.appdomain.cloud/assets/logos/SN_web_lightmode.png\" width=\"200\" alt=\"Skills Network Logo\">\n",
    "    </a>\n",
    "</p>\n",
    "\n",
    "<h1 align=center><font size = 5>Assignment: SQL Notebook for Peer Assignment</font></h1>\n",
    "\n",
    "Estimated time needed: **60** minutes.\n",
    "\n",
    "## Introduction\n",
    "Using this Python notebook you will:\n",
    "\n",
    "1.  Understand the Spacex DataSet\n",
    "2.  Load the dataset  into the corresponding table in a Db2 database\n",
    "3.  Execute SQL queries to answer assignment questions \n"
   ]
  },
  {
   "cell_type": "markdown",
   "id": "57e72843-4cba-416d-9f2d-6ee1e0b60658",
   "metadata": {},
   "source": [
    "## Overview of the DataSet\n",
    "\n",
    "SpaceX has gained worldwide attention for a series of historic milestones. \n",
    "\n",
    "It is the only private company ever to return a spacecraft from low-earth orbit, which it first accomplished in December 2010.\n",
    "SpaceX advertises Falcon 9 rocket launches on its website with a cost of 62 million dollars wheras other providers cost upward of 165 million dollars each, much of the savings is because Space X can reuse the first stage. \n",
    "\n",
    "\n",
    "Therefore if we can determine if the first stage will land, we can determine the cost of a launch. \n",
    "\n",
    "This information can be used if an alternate company wants to bid against SpaceX for a rocket launch.\n",
    "\n",
    "This dataset includes a record for each payload carried during a SpaceX mission into outer space.\n"
   ]
  },
  {
   "cell_type": "markdown",
   "id": "11b99f0e-0aba-4a92-a9d6-3e4835c4209f",
   "metadata": {},
   "source": [
    "### Download the datasets\n",
    "\n",
    "This assignment requires you to load the spacex dataset.\n",
    "\n",
    "In many cases the dataset to be analyzed is available as a .CSV (comma separated values) file, perhaps on the internet. Click on the link below to download and save the dataset (.CSV file):\n",
    "\n",
    " <a href=\"https://cf-courses-data.s3.us.cloud-object-storage.appdomain.cloud/IBM-DS0321EN-SkillsNetwork/labs/module_2/data/Spacex.csv\" target=\"_blank\">Spacex DataSet</a>\n",
    "\n"
   ]
  },
  {
   "cell_type": "code",
   "execution_count": 1,
   "id": "b62ff7c2-b981-4bab-b37b-85e8cef6e408",
   "metadata": {},
   "outputs": [
    {
     "name": "stdout",
     "output_type": "stream",
     "text": [
      "Collecting sqlalchemy==1.3.9\n",
      "  Downloading SQLAlchemy-1.3.9.tar.gz (6.0 MB)\n",
      "     ---------------------------------------- 0.0/6.0 MB ? eta -:--:--\n",
      "     ---------------------------------------- 0.0/6.0 MB 991.0 kB/s eta 0:00:06\n",
      "      --------------------------------------- 0.1/6.0 MB 919.0 kB/s eta 0:00:07\n",
      "      --------------------------------------- 0.1/6.0 MB 1.3 MB/s eta 0:00:05\n",
      "     - -------------------------------------- 0.2/6.0 MB 1.1 MB/s eta 0:00:06\n",
      "     - -------------------------------------- 0.2/6.0 MB 1.1 MB/s eta 0:00:06\n",
      "     -- ------------------------------------- 0.3/6.0 MB 1.4 MB/s eta 0:00:05\n",
      "     -- ------------------------------------- 0.3/6.0 MB 1.2 MB/s eta 0:00:05\n",
      "     -- ------------------------------------- 0.4/6.0 MB 1.1 MB/s eta 0:00:05\n",
      "     --- ------------------------------------ 0.5/6.0 MB 1.3 MB/s eta 0:00:05\n",
      "     --- ------------------------------------ 0.5/6.0 MB 1.3 MB/s eta 0:00:05\n",
      "     ---- ----------------------------------- 0.6/6.0 MB 1.5 MB/s eta 0:00:04\n",
      "     ----- ---------------------------------- 0.8/6.0 MB 1.5 MB/s eta 0:00:04\n",
      "     ----- ---------------------------------- 0.8/6.0 MB 1.6 MB/s eta 0:00:04\n",
      "     ----- ---------------------------------- 0.8/6.0 MB 1.6 MB/s eta 0:00:04\n",
      "     ------ --------------------------------- 1.0/6.0 MB 1.7 MB/s eta 0:00:03\n",
      "     ------- -------------------------------- 1.0/6.0 MB 1.7 MB/s eta 0:00:03\n",
      "     ------- -------------------------------- 1.1/6.0 MB 1.6 MB/s eta 0:00:03\n",
      "     ------- -------------------------------- 1.2/6.0 MB 1.6 MB/s eta 0:00:03\n",
      "     -------- ------------------------------- 1.3/6.0 MB 1.7 MB/s eta 0:00:03\n",
      "     --------- ------------------------------ 1.4/6.0 MB 1.7 MB/s eta 0:00:03\n",
      "     --------- ------------------------------ 1.5/6.0 MB 1.7 MB/s eta 0:00:03\n",
      "     ---------- ----------------------------- 1.5/6.0 MB 1.7 MB/s eta 0:00:03\n",
      "     ---------- ----------------------------- 1.6/6.0 MB 1.7 MB/s eta 0:00:03\n",
      "     ---------- ----------------------------- 1.6/6.0 MB 1.7 MB/s eta 0:00:03\n",
      "     ----------- ---------------------------- 1.7/6.0 MB 1.7 MB/s eta 0:00:03\n",
      "     ------------ --------------------------- 1.8/6.0 MB 1.7 MB/s eta 0:00:03\n",
      "     ------------ --------------------------- 1.9/6.0 MB 1.7 MB/s eta 0:00:03\n",
      "     ------------ --------------------------- 1.9/6.0 MB 1.7 MB/s eta 0:00:03\n",
      "     ------------- -------------------------- 2.0/6.0 MB 1.7 MB/s eta 0:00:03\n",
      "     -------------- ------------------------- 2.1/6.0 MB 1.7 MB/s eta 0:00:03\n",
      "     -------------- ------------------------- 2.2/6.0 MB 1.7 MB/s eta 0:00:03\n",
      "     --------------- ------------------------ 2.3/6.0 MB 1.8 MB/s eta 0:00:03\n",
      "     --------------- ------------------------ 2.3/6.0 MB 1.8 MB/s eta 0:00:03\n",
      "     --------------- ------------------------ 2.4/6.0 MB 1.7 MB/s eta 0:00:03\n",
      "     ---------------- ----------------------- 2.5/6.0 MB 1.7 MB/s eta 0:00:03\n",
      "     ---------------- ----------------------- 2.5/6.0 MB 1.7 MB/s eta 0:00:02\n",
      "     ----------------- ---------------------- 2.5/6.0 MB 1.7 MB/s eta 0:00:02\n",
      "     ----------------- ---------------------- 2.6/6.0 MB 1.7 MB/s eta 0:00:02\n",
      "     ----------------- ---------------------- 2.7/6.0 MB 1.7 MB/s eta 0:00:02\n",
      "     ------------------ --------------------- 2.7/6.0 MB 1.7 MB/s eta 0:00:02\n",
      "     ------------------ --------------------- 2.7/6.0 MB 1.7 MB/s eta 0:00:02\n",
      "     ------------------ --------------------- 2.8/6.0 MB 1.7 MB/s eta 0:00:02\n",
      "     ------------------- -------------------- 2.9/6.0 MB 1.7 MB/s eta 0:00:02\n",
      "     ------------------- -------------------- 2.9/6.0 MB 1.7 MB/s eta 0:00:02\n",
      "     -------------------- ------------------- 3.0/6.0 MB 1.7 MB/s eta 0:00:02\n",
      "     -------------------- ------------------- 3.1/6.0 MB 1.7 MB/s eta 0:00:02\n",
      "     --------------------- ------------------ 3.1/6.0 MB 1.7 MB/s eta 0:00:02\n",
      "     --------------------- ------------------ 3.1/6.0 MB 1.7 MB/s eta 0:00:02\n",
      "     --------------------- ------------------ 3.2/6.0 MB 1.6 MB/s eta 0:00:02\n",
      "     --------------------- ------------------ 3.3/6.0 MB 1.6 MB/s eta 0:00:02\n",
      "     ---------------------- ----------------- 3.3/6.0 MB 1.6 MB/s eta 0:00:02\n",
      "     ---------------------- ----------------- 3.4/6.0 MB 1.6 MB/s eta 0:00:02\n",
      "     ----------------------- ---------------- 3.5/6.0 MB 1.6 MB/s eta 0:00:02\n",
      "     ----------------------- ---------------- 3.5/6.0 MB 1.6 MB/s eta 0:00:02\n",
      "     ----------------------- ---------------- 3.6/6.0 MB 1.6 MB/s eta 0:00:02\n",
      "     ------------------------ --------------- 3.6/6.0 MB 1.6 MB/s eta 0:00:02\n",
      "     ------------------------ --------------- 3.6/6.0 MB 1.6 MB/s eta 0:00:02\n",
      "     ------------------------ --------------- 3.7/6.0 MB 1.6 MB/s eta 0:00:02\n",
      "     ------------------------ --------------- 3.7/6.0 MB 1.6 MB/s eta 0:00:02\n",
      "     ------------------------- -------------- 3.8/6.0 MB 1.6 MB/s eta 0:00:02\n",
      "     ------------------------- -------------- 3.8/6.0 MB 1.6 MB/s eta 0:00:02\n",
      "     -------------------------- ------------- 3.9/6.0 MB 1.6 MB/s eta 0:00:02\n",
      "     -------------------------- ------------- 3.9/6.0 MB 1.6 MB/s eta 0:00:02\n",
      "     -------------------------- ------------- 4.0/6.0 MB 1.6 MB/s eta 0:00:02\n",
      "     -------------------------- ------------- 4.0/6.0 MB 1.5 MB/s eta 0:00:02\n",
      "     --------------------------- ------------ 4.0/6.0 MB 1.5 MB/s eta 0:00:02\n",
      "     --------------------------- ------------ 4.1/6.0 MB 1.5 MB/s eta 0:00:02\n",
      "     --------------------------- ------------ 4.1/6.0 MB 1.5 MB/s eta 0:00:02\n",
      "     ---------------------------- ----------- 4.2/6.0 MB 1.5 MB/s eta 0:00:02\n",
      "     ---------------------------- ----------- 4.2/6.0 MB 1.5 MB/s eta 0:00:02\n",
      "     ---------------------------- ----------- 4.2/6.0 MB 1.5 MB/s eta 0:00:02\n",
      "     ---------------------------- ----------- 4.2/6.0 MB 1.5 MB/s eta 0:00:02\n",
      "     ---------------------------- ----------- 4.3/6.0 MB 1.5 MB/s eta 0:00:02\n",
      "     ---------------------------- ----------- 4.3/6.0 MB 1.4 MB/s eta 0:00:02\n",
      "     ----------------------------- ---------- 4.3/6.0 MB 1.4 MB/s eta 0:00:02\n",
      "     ----------------------------- ---------- 4.4/6.0 MB 1.4 MB/s eta 0:00:02\n",
      "     ----------------------------- ---------- 4.4/6.0 MB 1.4 MB/s eta 0:00:02\n",
      "     ------------------------------ --------- 4.5/6.0 MB 1.4 MB/s eta 0:00:02\n",
      "     ------------------------------ --------- 4.5/6.0 MB 1.4 MB/s eta 0:00:02\n",
      "     ------------------------------ --------- 4.5/6.0 MB 1.4 MB/s eta 0:00:02\n",
      "     ------------------------------ --------- 4.6/6.0 MB 1.4 MB/s eta 0:00:01\n",
      "     ------------------------------ --------- 4.6/6.0 MB 1.4 MB/s eta 0:00:01\n",
      "     ------------------------------- -------- 4.6/6.0 MB 1.4 MB/s eta 0:00:01\n",
      "     ------------------------------- -------- 4.7/6.0 MB 1.4 MB/s eta 0:00:01\n",
      "     ------------------------------- -------- 4.7/6.0 MB 1.4 MB/s eta 0:00:01\n",
      "     ------------------------------- -------- 4.7/6.0 MB 1.4 MB/s eta 0:00:01\n",
      "     ------------------------------- -------- 4.8/6.0 MB 1.4 MB/s eta 0:00:01\n",
      "     -------------------------------- ------- 4.8/6.0 MB 1.4 MB/s eta 0:00:01\n",
      "     -------------------------------- ------- 4.8/6.0 MB 1.3 MB/s eta 0:00:01\n",
      "     -------------------------------- ------- 4.8/6.0 MB 1.3 MB/s eta 0:00:01\n",
      "     -------------------------------- ------- 4.9/6.0 MB 1.3 MB/s eta 0:00:01\n",
      "     -------------------------------- ------- 4.9/6.0 MB 1.3 MB/s eta 0:00:01\n",
      "     -------------------------------- ------- 4.9/6.0 MB 1.3 MB/s eta 0:00:01\n",
      "     --------------------------------- ------ 4.9/6.0 MB 1.3 MB/s eta 0:00:01\n",
      "     --------------------------------- ------ 5.0/6.0 MB 1.3 MB/s eta 0:00:01\n",
      "     --------------------------------- ------ 5.0/6.0 MB 1.3 MB/s eta 0:00:01\n",
      "     --------------------------------- ------ 5.0/6.0 MB 1.3 MB/s eta 0:00:01\n",
      "     --------------------------------- ------ 5.1/6.0 MB 1.3 MB/s eta 0:00:01\n",
      "     ---------------------------------- ----- 5.1/6.0 MB 1.3 MB/s eta 0:00:01\n",
      "     ---------------------------------- ----- 5.1/6.0 MB 1.3 MB/s eta 0:00:01\n",
      "     ---------------------------------- ----- 5.1/6.0 MB 1.3 MB/s eta 0:00:01\n",
      "     ---------------------------------- ----- 5.2/6.0 MB 1.3 MB/s eta 0:00:01\n",
      "     ---------------------------------- ----- 5.2/6.0 MB 1.3 MB/s eta 0:00:01\n",
      "     ----------------------------------- ---- 5.2/6.0 MB 1.2 MB/s eta 0:00:01\n",
      "     ----------------------------------- ---- 5.2/6.0 MB 1.2 MB/s eta 0:00:01\n",
      "     ----------------------------------- ---- 5.3/6.0 MB 1.2 MB/s eta 0:00:01\n",
      "     ----------------------------------- ---- 5.3/6.0 MB 1.2 MB/s eta 0:00:01\n",
      "     ----------------------------------- ---- 5.3/6.0 MB 1.2 MB/s eta 0:00:01\n",
      "     ----------------------------------- ---- 5.3/6.0 MB 1.2 MB/s eta 0:00:01\n",
      "     ----------------------------------- ---- 5.3/6.0 MB 1.2 MB/s eta 0:00:01\n",
      "     ----------------------------------- ---- 5.4/6.0 MB 1.2 MB/s eta 0:00:01\n",
      "     ------------------------------------ --- 5.4/6.0 MB 1.2 MB/s eta 0:00:01\n",
      "     ------------------------------------ --- 5.4/6.0 MB 1.2 MB/s eta 0:00:01\n",
      "     ------------------------------------ --- 5.4/6.0 MB 1.2 MB/s eta 0:00:01\n",
      "     ------------------------------------ --- 5.4/6.0 MB 1.2 MB/s eta 0:00:01\n",
      "     ------------------------------------ --- 5.5/6.0 MB 1.2 MB/s eta 0:00:01\n",
      "     ------------------------------------ --- 5.5/6.0 MB 1.2 MB/s eta 0:00:01\n",
      "     ------------------------------------ --- 5.5/6.0 MB 1.2 MB/s eta 0:00:01\n",
      "     ------------------------------------- -- 5.5/6.0 MB 1.1 MB/s eta 0:00:01\n",
      "     ------------------------------------- -- 5.6/6.0 MB 1.1 MB/s eta 0:00:01\n",
      "     ------------------------------------- -- 5.6/6.0 MB 1.1 MB/s eta 0:00:01\n",
      "     ------------------------------------- -- 5.6/6.0 MB 1.1 MB/s eta 0:00:01\n",
      "     ------------------------------------- -- 5.7/6.0 MB 1.1 MB/s eta 0:00:01\n",
      "     -------------------------------------- - 5.7/6.0 MB 1.1 MB/s eta 0:00:01\n",
      "     -------------------------------------- - 5.7/6.0 MB 1.1 MB/s eta 0:00:01\n",
      "     -------------------------------------- - 5.8/6.0 MB 1.1 MB/s eta 0:00:01\n",
      "     -------------------------------------- - 5.8/6.0 MB 1.1 MB/s eta 0:00:01\n",
      "     ---------------------------------------  5.8/6.0 MB 1.1 MB/s eta 0:00:01\n",
      "     ---------------------------------------  5.9/6.0 MB 1.1 MB/s eta 0:00:01\n",
      "     ---------------------------------------  5.9/6.0 MB 1.1 MB/s eta 0:00:01\n",
      "     ---------------------------------------  5.9/6.0 MB 1.1 MB/s eta 0:00:01\n",
      "     ---------------------------------------  5.9/6.0 MB 1.1 MB/s eta 0:00:01\n",
      "     ---------------------------------------  6.0/6.0 MB 1.1 MB/s eta 0:00:01\n",
      "     ---------------------------------------  6.0/6.0 MB 1.1 MB/s eta 0:00:01\n",
      "     ---------------------------------------  6.0/6.0 MB 1.1 MB/s eta 0:00:01\n",
      "     ---------------------------------------- 6.0/6.0 MB 1.1 MB/s eta 0:00:00\n",
      "  Preparing metadata (setup.py): started\n",
      "  Preparing metadata (setup.py): finished with status 'done'\n",
      "Building wheels for collected packages: sqlalchemy\n",
      "  Building wheel for sqlalchemy (setup.py): started\n",
      "  Building wheel for sqlalchemy (setup.py): finished with status 'done'\n",
      "  Created wheel for sqlalchemy: filename=SQLAlchemy-1.3.9-cp310-cp310-win_amd64.whl size=1142949 sha256=cae4ca9d6314a64267fafe438301e2f199bb47f61ab2c8b17e5f5bbaf3e8dc5a\n",
      "  Stored in directory: c:\\users\\asus\\appdata\\local\\pip\\cache\\wheels\\8b\\6d\\9c\\e1793e5a2d85b89b8c362a4f0e3def54b786bcd14923b9ff00\n",
      "Successfully built sqlalchemy\n",
      "Installing collected packages: sqlalchemy\n",
      "  Attempting uninstall: sqlalchemy\n",
      "    Found existing installation: SQLAlchemy 1.4.51\n",
      "    Uninstalling SQLAlchemy-1.4.51:\n",
      "      Successfully uninstalled SQLAlchemy-1.4.51\n",
      "Successfully installed sqlalchemy-1.3.9\n"
     ]
    },
    {
     "name": "stderr",
     "output_type": "stream",
     "text": [
      "WARNING: Error parsing requirements for matplotlib: [Errno 2] No such file or directory: 'c:\\\\users\\\\asus\\\\anaconda3\\\\envs\\\\datascience\\\\lib\\\\site-packages\\\\matplotlib-3.8.0.dist-info\\\\METADATA'\n",
      "ERROR: pip's dependency resolver does not currently take into account all the packages that are installed. This behaviour is the source of the following dependency conflicts.\n",
      "ipython-sql 0.5.0 requires sqlalchemy>=2.0, but you have sqlalchemy 1.3.9 which is incompatible.\n"
     ]
    }
   ],
   "source": [
    "!pip install sqlalchemy==1.3.9\n"
   ]
  },
  {
   "cell_type": "markdown",
   "id": "1aeb4b62-08fb-4bf5-a0da-e1531ae87a3c",
   "metadata": {},
   "source": [
    "### Connect to the database\n",
    "\n",
    "Let us first load the SQL extension and establish a connection with the database\n"
   ]
  },
  {
   "cell_type": "code",
   "execution_count": 2,
   "id": "98d007ae-e624-405b-a08c-ff2aed427bc0",
   "metadata": {},
   "outputs": [
    {
     "name": "stdout",
     "output_type": "stream",
     "text": [
      "Requirement already satisfied: ipython-sql in c:\\users\\asus\\anaconda3\\envs\\datascience\\lib\\site-packages (0.5.0)\n",
      "Requirement already satisfied: prettytable in c:\\users\\asus\\anaconda3\\envs\\datascience\\lib\\site-packages (from ipython-sql) (3.12.0)\n",
      "Requirement already satisfied: ipython in c:\\users\\asus\\anaconda3\\envs\\datascience\\lib\\site-packages (from ipython-sql) (8.20.0)\n",
      "Collecting sqlalchemy>=2.0 (from ipython-sql)\n",
      "  Downloading sqlalchemy-2.0.41-cp310-cp310-win_amd64.whl.metadata (9.8 kB)\n",
      "Requirement already satisfied: sqlparse in c:\\users\\asus\\anaconda3\\envs\\datascience\\lib\\site-packages (from ipython-sql) (0.5.1)\n",
      "Requirement already satisfied: six in c:\\users\\asus\\anaconda3\\envs\\datascience\\lib\\site-packages (from ipython-sql) (1.16.0)\n",
      "Requirement already satisfied: ipython-genutils in c:\\users\\asus\\anaconda3\\envs\\datascience\\lib\\site-packages (from ipython-sql) (0.2.0)\n",
      "Requirement already satisfied: greenlet>=1 in c:\\users\\asus\\anaconda3\\envs\\datascience\\lib\\site-packages (from sqlalchemy>=2.0->ipython-sql) (3.0.1)\n",
      "Requirement already satisfied: typing-extensions>=4.6.0 in c:\\users\\asus\\anaconda3\\envs\\datascience\\lib\\site-packages (from sqlalchemy>=2.0->ipython-sql) (4.12.2)\n",
      "Requirement already satisfied: decorator in c:\\users\\asus\\anaconda3\\envs\\datascience\\lib\\site-packages (from ipython->ipython-sql) (5.1.1)\n",
      "Requirement already satisfied: jedi>=0.16 in c:\\users\\asus\\anaconda3\\envs\\datascience\\lib\\site-packages (from ipython->ipython-sql) (0.18.1)\n",
      "Requirement already satisfied: matplotlib-inline in c:\\users\\asus\\anaconda3\\envs\\datascience\\lib\\site-packages (from ipython->ipython-sql) (0.1.6)\n",
      "Requirement already satisfied: prompt-toolkit<3.1.0,>=3.0.41 in c:\\users\\asus\\anaconda3\\envs\\datascience\\lib\\site-packages (from ipython->ipython-sql) (3.0.43)\n",
      "Requirement already satisfied: pygments>=2.4.0 in c:\\users\\asus\\anaconda3\\envs\\datascience\\lib\\site-packages (from ipython->ipython-sql) (2.15.1)\n",
      "Requirement already satisfied: stack-data in c:\\users\\asus\\anaconda3\\envs\\datascience\\lib\\site-packages (from ipython->ipython-sql) (0.2.0)\n",
      "Requirement already satisfied: traitlets>=5 in c:\\users\\asus\\anaconda3\\envs\\datascience\\lib\\site-packages (from ipython->ipython-sql) (5.7.1)\n",
      "Requirement already satisfied: exceptiongroup in c:\\users\\asus\\anaconda3\\envs\\datascience\\lib\\site-packages (from ipython->ipython-sql) (1.0.4)\n",
      "Requirement already satisfied: colorama in c:\\users\\asus\\anaconda3\\envs\\datascience\\lib\\site-packages (from ipython->ipython-sql) (0.4.6)\n",
      "Requirement already satisfied: wcwidth in c:\\users\\asus\\anaconda3\\envs\\datascience\\lib\\site-packages (from prettytable->ipython-sql) (0.2.5)\n",
      "Requirement already satisfied: parso<0.9.0,>=0.8.0 in c:\\users\\asus\\anaconda3\\envs\\datascience\\lib\\site-packages (from jedi>=0.16->ipython->ipython-sql) (0.8.3)\n",
      "Requirement already satisfied: executing in c:\\users\\asus\\anaconda3\\envs\\datascience\\lib\\site-packages (from stack-data->ipython->ipython-sql) (0.8.3)\n",
      "Requirement already satisfied: asttokens in c:\\users\\asus\\anaconda3\\envs\\datascience\\lib\\site-packages (from stack-data->ipython->ipython-sql) (2.0.5)\n",
      "Requirement already satisfied: pure-eval in c:\\users\\asus\\anaconda3\\envs\\datascience\\lib\\site-packages (from stack-data->ipython->ipython-sql) (0.2.2)\n",
      "Downloading sqlalchemy-2.0.41-cp310-cp310-win_amd64.whl (2.1 MB)\n",
      "   ---------------------------------------- 0.0/2.1 MB ? eta -:--:--\n",
      "    --------------------------------------- 0.0/2.1 MB ? eta -:--:--\n",
      "   - -------------------------------------- 0.1/2.1 MB 1.1 MB/s eta 0:00:02\n",
      "   -- ------------------------------------- 0.1/2.1 MB 1.1 MB/s eta 0:00:02\n",
      "   -- ------------------------------------- 0.1/2.1 MB 1.1 MB/s eta 0:00:02\n",
      "   -- ------------------------------------- 0.2/2.1 MB 833.5 kB/s eta 0:00:03\n",
      "   --- ------------------------------------ 0.2/2.1 MB 845.5 kB/s eta 0:00:03\n",
      "   ---- ----------------------------------- 0.2/2.1 MB 850.1 kB/s eta 0:00:03\n",
      "   ----- ---------------------------------- 0.3/2.1 MB 886.2 kB/s eta 0:00:03\n",
      "   ------ --------------------------------- 0.3/2.1 MB 895.6 kB/s eta 0:00:03\n",
      "   ------ --------------------------------- 0.3/2.1 MB 873.8 kB/s eta 0:00:03\n",
      "   ------ --------------------------------- 0.4/2.1 MB 882.8 kB/s eta 0:00:02\n",
      "   ------- -------------------------------- 0.4/2.1 MB 804.0 kB/s eta 0:00:03\n",
      "   -------- ------------------------------- 0.4/2.1 MB 835.1 kB/s eta 0:00:02\n",
      "   -------- ------------------------------- 0.4/2.1 MB 835.1 kB/s eta 0:00:02\n",
      "   -------- ------------------------------- 0.5/2.1 MB 777.1 kB/s eta 0:00:03\n",
      "   --------- ------------------------------ 0.5/2.1 MB 786.4 kB/s eta 0:00:03\n",
      "   ---------- ----------------------------- 0.5/2.1 MB 760.2 kB/s eta 0:00:03\n",
      "   ---------- ----------------------------- 0.5/2.1 MB 760.2 kB/s eta 0:00:03\n",
      "   ----------- ---------------------------- 0.6/2.1 MB 764.6 kB/s eta 0:00:02\n",
      "   ----------- ---------------------------- 0.6/2.1 MB 745.2 kB/s eta 0:00:03\n",
      "   ------------ --------------------------- 0.6/2.1 MB 741.0 kB/s eta 0:00:02\n",
      "   ------------- -------------------------- 0.7/2.1 MB 759.4 kB/s eta 0:00:02\n",
      "   ------------- -------------------------- 0.7/2.1 MB 766.3 kB/s eta 0:00:02\n",
      "   ------------- -------------------------- 0.7/2.1 MB 766.3 kB/s eta 0:00:02\n",
      "   --------------- ------------------------ 0.8/2.1 MB 776.8 kB/s eta 0:00:02\n",
      "   --------------- ------------------------ 0.8/2.1 MB 776.8 kB/s eta 0:00:02\n",
      "   --------------- ------------------------ 0.8/2.1 MB 752.1 kB/s eta 0:00:02\n",
      "   ---------------- ----------------------- 0.8/2.1 MB 746.4 kB/s eta 0:00:02\n",
      "   ---------------- ----------------------- 0.9/2.1 MB 733.3 kB/s eta 0:00:02\n",
      "   ----------------- ---------------------- 0.9/2.1 MB 730.2 kB/s eta 0:00:02\n",
      "   ----------------- ---------------------- 0.9/2.1 MB 736.6 kB/s eta 0:00:02\n",
      "   ------------------ --------------------- 1.0/2.1 MB 734.2 kB/s eta 0:00:02\n",
      "   ------------------ --------------------- 1.0/2.1 MB 740.2 kB/s eta 0:00:02\n",
      "   ------------------- -------------------- 1.0/2.1 MB 744.1 kB/s eta 0:00:02\n",
      "   -------------------- ------------------- 1.1/2.1 MB 741.1 kB/s eta 0:00:02\n",
      "   --------------------- ------------------ 1.1/2.1 MB 760.3 kB/s eta 0:00:02\n",
      "   --------------------- ------------------ 1.2/2.1 MB 757.0 kB/s eta 0:00:02\n",
      "   ---------------------- ----------------- 1.2/2.1 MB 761.2 kB/s eta 0:00:02\n",
      "   ---------------------- ----------------- 1.2/2.1 MB 761.2 kB/s eta 0:00:02\n",
      "   ----------------------- ---------------- 1.2/2.1 MB 751.0 kB/s eta 0:00:02\n",
      "   ----------------------- ---------------- 1.2/2.1 MB 734.9 kB/s eta 0:00:02\n",
      "   ------------------------ --------------- 1.3/2.1 MB 733.1 kB/s eta 0:00:02\n",
      "   ------------------------ --------------- 1.3/2.1 MB 725.2 kB/s eta 0:00:02\n",
      "   ------------------------- -------------- 1.3/2.1 MB 723.4 kB/s eta 0:00:02\n",
      "   ------------------------- -------------- 1.3/2.1 MB 723.4 kB/s eta 0:00:02\n",
      "   ------------------------- -------------- 1.3/2.1 MB 723.4 kB/s eta 0:00:02\n",
      "   ------------------------- -------------- 1.4/2.1 MB 697.9 kB/s eta 0:00:02\n",
      "   ------------------------- -------------- 1.4/2.1 MB 697.9 kB/s eta 0:00:02\n",
      "   -------------------------- ------------- 1.4/2.1 MB 686.1 kB/s eta 0:00:02\n",
      "   -------------------------- ------------- 1.4/2.1 MB 675.4 kB/s eta 0:00:02\n",
      "   -------------------------- ------------- 1.4/2.1 MB 675.2 kB/s eta 0:00:02\n",
      "   --------------------------- ------------ 1.5/2.1 MB 669.7 kB/s eta 0:00:01\n",
      "   --------------------------- ------------ 1.5/2.1 MB 669.7 kB/s eta 0:00:01\n",
      "   ---------------------------- ----------- 1.5/2.1 MB 664.8 kB/s eta 0:00:01\n",
      "   ---------------------------- ----------- 1.5/2.1 MB 664.6 kB/s eta 0:00:01\n",
      "   ----------------------------- ---------- 1.5/2.1 MB 668.7 kB/s eta 0:00:01\n",
      "   ------------------------------ --------- 1.6/2.1 MB 673.1 kB/s eta 0:00:01\n",
      "   ------------------------------ --------- 1.6/2.1 MB 668.3 kB/s eta 0:00:01\n",
      "   ------------------------------ --------- 1.6/2.1 MB 672.5 kB/s eta 0:00:01\n",
      "   ------------------------------- -------- 1.7/2.1 MB 676.3 kB/s eta 0:00:01\n",
      "   -------------------------------- ------- 1.7/2.1 MB 675.8 kB/s eta 0:00:01\n",
      "   -------------------------------- ------- 1.7/2.1 MB 671.6 kB/s eta 0:00:01\n",
      "   --------------------------------- ------ 1.8/2.1 MB 679.2 kB/s eta 0:00:01\n",
      "   --------------------------------- ------ 1.8/2.1 MB 678.8 kB/s eta 0:00:01\n",
      "   ---------------------------------- ----- 1.8/2.1 MB 674.5 kB/s eta 0:00:01\n",
      "   ---------------------------------- ----- 1.8/2.1 MB 674.3 kB/s eta 0:00:01\n",
      "   ---------------------------------- ----- 1.8/2.1 MB 674.3 kB/s eta 0:00:01\n",
      "   ---------------------------------- ----- 1.8/2.1 MB 659.1 kB/s eta 0:00:01\n",
      "   ----------------------------------- ---- 1.9/2.1 MB 659.1 kB/s eta 0:00:01\n",
      "   ----------------------------------- ---- 1.9/2.1 MB 659.1 kB/s eta 0:00:01\n",
      "   ----------------------------------- ---- 1.9/2.1 MB 652.0 kB/s eta 0:00:01\n",
      "   ----------------------------------- ---- 1.9/2.1 MB 652.0 kB/s eta 0:00:01\n",
      "   ------------------------------------ --- 1.9/2.1 MB 641.7 kB/s eta 0:00:01\n",
      "   ------------------------------------ --- 1.9/2.1 MB 635.1 kB/s eta 0:00:01\n",
      "   ------------------------------------ --- 1.9/2.1 MB 632.1 kB/s eta 0:00:01\n",
      "   ------------------------------------- -- 2.0/2.1 MB 629.0 kB/s eta 0:00:01\n",
      "   ------------------------------------- -- 2.0/2.1 MB 626.1 kB/s eta 0:00:01\n",
      "   ------------------------------------- -- 2.0/2.1 MB 623.3 kB/s eta 0:00:01\n",
      "   -------------------------------------- - 2.0/2.1 MB 623.4 kB/s eta 0:00:01\n",
      "   -------------------------------------- - 2.0/2.1 MB 623.4 kB/s eta 0:00:01\n",
      "   -------------------------------------- - 2.0/2.1 MB 611.9 kB/s eta 0:00:01\n",
      "   -------------------------------------- - 2.0/2.1 MB 609.2 kB/s eta 0:00:01\n",
      "   ---------------------------------------  2.1/2.1 MB 606.8 kB/s eta 0:00:01\n",
      "   ---------------------------------------  2.1/2.1 MB 601.8 kB/s eta 0:00:01\n",
      "   ---------------------------------------  2.1/2.1 MB 596.6 kB/s eta 0:00:01\n",
      "   ---------------------------------------  2.1/2.1 MB 597.2 kB/s eta 0:00:01\n",
      "   ---------------------------------------- 2.1/2.1 MB 589.5 kB/s eta 0:00:00\n",
      "Installing collected packages: sqlalchemy\n",
      "  Attempting uninstall: sqlalchemy\n",
      "    Found existing installation: SQLAlchemy 1.3.9\n",
      "    Uninstalling SQLAlchemy-1.3.9:\n",
      "      Successfully uninstalled SQLAlchemy-1.3.9\n",
      "Successfully installed sqlalchemy-2.0.36\n"
     ]
    },
    {
     "name": "stderr",
     "output_type": "stream",
     "text": [
      "WARNING: Error parsing requirements for matplotlib: [Errno 2] No such file or directory: 'c:\\\\users\\\\asus\\\\anaconda3\\\\envs\\\\datascience\\\\lib\\\\site-packages\\\\matplotlib-3.8.0.dist-info\\\\METADATA'\n"
     ]
    },
    {
     "name": "stdout",
     "output_type": "stream",
     "text": [
      "Requirement already satisfied: ipython-sql in c:\\users\\asus\\anaconda3\\envs\\datascience\\lib\\site-packages (0.5.0)\n",
      "Requirement already satisfied: prettytable in c:\\users\\asus\\anaconda3\\envs\\datascience\\lib\\site-packages (3.12.0)\n",
      "Requirement already satisfied: ipython in c:\\users\\asus\\anaconda3\\envs\\datascience\\lib\\site-packages (from ipython-sql) (8.20.0)\n",
      "Requirement already satisfied: sqlalchemy>=2.0 in c:\\users\\asus\\anaconda3\\envs\\datascience\\lib\\site-packages (from ipython-sql) (2.0.36)\n",
      "Requirement already satisfied: sqlparse in c:\\users\\asus\\anaconda3\\envs\\datascience\\lib\\site-packages (from ipython-sql) (0.5.1)\n",
      "Requirement already satisfied: six in c:\\users\\asus\\anaconda3\\envs\\datascience\\lib\\site-packages (from ipython-sql) (1.16.0)\n",
      "Requirement already satisfied: ipython-genutils in c:\\users\\asus\\anaconda3\\envs\\datascience\\lib\\site-packages (from ipython-sql) (0.2.0)\n",
      "Requirement already satisfied: wcwidth in c:\\users\\asus\\anaconda3\\envs\\datascience\\lib\\site-packages (from prettytable) (0.2.5)\n",
      "Requirement already satisfied: typing-extensions>=4.6.0 in c:\\users\\asus\\anaconda3\\envs\\datascience\\lib\\site-packages (from sqlalchemy>=2.0->ipython-sql) (4.12.2)\n",
      "Requirement already satisfied: greenlet!=0.4.17 in c:\\users\\asus\\anaconda3\\envs\\datascience\\lib\\site-packages (from sqlalchemy>=2.0->ipython-sql) (3.0.1)\n",
      "Requirement already satisfied: decorator in c:\\users\\asus\\anaconda3\\envs\\datascience\\lib\\site-packages (from ipython->ipython-sql) (5.1.1)\n",
      "Requirement already satisfied: jedi>=0.16 in c:\\users\\asus\\anaconda3\\envs\\datascience\\lib\\site-packages (from ipython->ipython-sql) (0.18.1)\n",
      "Requirement already satisfied: matplotlib-inline in c:\\users\\asus\\anaconda3\\envs\\datascience\\lib\\site-packages (from ipython->ipython-sql) (0.1.6)\n",
      "Requirement already satisfied: prompt-toolkit<3.1.0,>=3.0.41 in c:\\users\\asus\\anaconda3\\envs\\datascience\\lib\\site-packages (from ipython->ipython-sql) (3.0.43)\n",
      "Requirement already satisfied: pygments>=2.4.0 in c:\\users\\asus\\anaconda3\\envs\\datascience\\lib\\site-packages (from ipython->ipython-sql) (2.15.1)\n",
      "Requirement already satisfied: stack-data in c:\\users\\asus\\anaconda3\\envs\\datascience\\lib\\site-packages (from ipython->ipython-sql) (0.2.0)\n",
      "Requirement already satisfied: traitlets>=5 in c:\\users\\asus\\anaconda3\\envs\\datascience\\lib\\site-packages (from ipython->ipython-sql) (5.7.1)\n",
      "Requirement already satisfied: exceptiongroup in c:\\users\\asus\\anaconda3\\envs\\datascience\\lib\\site-packages (from ipython->ipython-sql) (1.0.4)\n",
      "Requirement already satisfied: colorama in c:\\users\\asus\\anaconda3\\envs\\datascience\\lib\\site-packages (from ipython->ipython-sql) (0.4.6)\n",
      "Requirement already satisfied: parso<0.9.0,>=0.8.0 in c:\\users\\asus\\anaconda3\\envs\\datascience\\lib\\site-packages (from jedi>=0.16->ipython->ipython-sql) (0.8.3)\n",
      "Requirement already satisfied: executing in c:\\users\\asus\\anaconda3\\envs\\datascience\\lib\\site-packages (from stack-data->ipython->ipython-sql) (0.8.3)\n",
      "Requirement already satisfied: asttokens in c:\\users\\asus\\anaconda3\\envs\\datascience\\lib\\site-packages (from stack-data->ipython->ipython-sql) (2.0.5)\n",
      "Requirement already satisfied: pure-eval in c:\\users\\asus\\anaconda3\\envs\\datascience\\lib\\site-packages (from stack-data->ipython->ipython-sql) (0.2.2)\n"
     ]
    },
    {
     "name": "stderr",
     "output_type": "stream",
     "text": [
      "WARNING: Error parsing requirements for matplotlib: [Errno 2] No such file or directory: 'c:\\\\users\\\\asus\\\\anaconda3\\\\envs\\\\datascience\\\\lib\\\\site-packages\\\\matplotlib-3.8.0.dist-info\\\\METADATA'\n"
     ]
    }
   ],
   "source": [
    "!pip install ipython-sql\n",
    "!pip install ipython-sql prettytable"
   ]
  },
  {
   "cell_type": "code",
   "execution_count": 3,
   "id": "f4b9b741-bbe5-4550-8f02-702686e0d1a9",
   "metadata": {},
   "outputs": [],
   "source": [
    "%load_ext sql"
   ]
  },
  {
   "cell_type": "code",
   "execution_count": 4,
   "id": "9c6465db-38ac-44f8-baa3-201feecff9d6",
   "metadata": {},
   "outputs": [],
   "source": [
    "import csv, sqlite3\n",
    "import prettytable\n",
    "prettytable.DEFAULT = 'DEFAULT'\n",
    "\n",
    "con = sqlite3.connect(\"my_data1.db\")\n",
    "cur = con.cursor()"
   ]
  },
  {
   "cell_type": "code",
   "execution_count": 5,
   "id": "6c6c6022-199c-4573-a7d4-9be1cd2e230b",
   "metadata": {},
   "outputs": [
    {
     "name": "stderr",
     "output_type": "stream",
     "text": [
      "WARNING: Error parsing requirements for matplotlib: [Errno 2] No such file or directory: 'c:\\\\users\\\\asus\\\\anaconda3\\\\envs\\\\datascience\\\\lib\\\\site-packages\\\\matplotlib-3.8.0.dist-info\\\\METADATA'\n"
     ]
    }
   ],
   "source": [
    "!pip install -q pandas"
   ]
  },
  {
   "cell_type": "code",
   "execution_count": 6,
   "id": "417b0b55-6ecb-4df1-8dbd-3f33ce5b603c",
   "metadata": {},
   "outputs": [],
   "source": [
    "%sql sqlite:///my_data1.db"
   ]
  },
  {
   "cell_type": "code",
   "execution_count": 7,
   "id": "6a545df6-aad1-4a84-8050-09f8a0d19b38",
   "metadata": {},
   "outputs": [
    {
     "data": {
      "text/plain": [
       "101"
      ]
     },
     "execution_count": 7,
     "metadata": {},
     "output_type": "execute_result"
    }
   ],
   "source": [
    "import pandas as pd\n",
    "df = pd.read_csv(\"https://cf-courses-data.s3.us.cloud-object-storage.appdomain.cloud/IBM-DS0321EN-SkillsNetwork/labs/module_2/data/Spacex.csv\")\n",
    "df.to_sql(\"SPACEXTBL\", con, if_exists='replace', index=False,method=\"multi\")"
   ]
  },
  {
   "cell_type": "markdown",
   "id": "02bee8d8-c9c7-41cc-bcfc-d3b051c9cc27",
   "metadata": {},
   "source": [
    "**Note:This below code is added to remove blank rows from table**\n"
   ]
  },
  {
   "cell_type": "code",
   "execution_count": 8,
   "id": "e93dbf4e-52db-4a87-b00c-83e6e475e44b",
   "metadata": {},
   "outputs": [
    {
     "name": "stdout",
     "output_type": "stream",
     "text": [
      " * sqlite:///my_data1.db\n",
      "Done.\n"
     ]
    },
    {
     "data": {
      "text/plain": [
       "[]"
      ]
     },
     "execution_count": 8,
     "metadata": {},
     "output_type": "execute_result"
    }
   ],
   "source": [
    "#DROP THE TABLE IF EXISTS\n",
    "\n",
    "%sql DROP TABLE IF EXISTS SPACEXTABLE;"
   ]
  },
  {
   "cell_type": "code",
   "execution_count": 9,
   "id": "c09fc7a3-6ac8-4b96-a4ef-c22bdb5bd0bc",
   "metadata": {},
   "outputs": [
    {
     "name": "stdout",
     "output_type": "stream",
     "text": [
      " * sqlite:///my_data1.db\n",
      "Done.\n"
     ]
    },
    {
     "data": {
      "text/plain": [
       "[]"
      ]
     },
     "execution_count": 9,
     "metadata": {},
     "output_type": "execute_result"
    }
   ],
   "source": [
    "%sql create table SPACEXTABLE as select * from SPACEXTBL where Date is not null"
   ]
  },
  {
   "cell_type": "markdown",
   "id": "138f1948-b046-45a9-896e-9d6f4131e54f",
   "metadata": {},
   "source": [
    "## Tasks\n",
    "\n",
    "Now write and execute SQL queries to solve the assignment tasks.\n",
    "\n",
    "**Note: If the column names are in mixed case enclose it in double quotes\n",
    "   For Example \"Landing_Outcome\"**\n",
    "\n",
    "### Task 1\n",
    "\n",
    "\n",
    "\n",
    "\n",
    "##### Display the names of the unique launch sites  in the space mission\n"
   ]
  },
  {
   "cell_type": "code",
   "execution_count": 11,
   "id": "3f4a6235-8194-46b8-bbfd-beb14f517386",
   "metadata": {},
   "outputs": [
    {
     "name": "stdout",
     "output_type": "stream",
     "text": [
      " * sqlite:///my_data1.db\n",
      "Done.\n"
     ]
    },
    {
     "data": {
      "text/html": [
       "<table>\n",
       "    <thead>\n",
       "        <tr>\n",
       "            <th>Launch_Site</th>\n",
       "        </tr>\n",
       "    </thead>\n",
       "    <tbody>\n",
       "        <tr>\n",
       "            <td>CCAFS LC-40</td>\n",
       "        </tr>\n",
       "        <tr>\n",
       "            <td>VAFB SLC-4E</td>\n",
       "        </tr>\n",
       "        <tr>\n",
       "            <td>KSC LC-39A</td>\n",
       "        </tr>\n",
       "        <tr>\n",
       "            <td>CCAFS SLC-40</td>\n",
       "        </tr>\n",
       "    </tbody>\n",
       "</table>"
      ],
      "text/plain": [
       "[('CCAFS LC-40',), ('VAFB SLC-4E',), ('KSC LC-39A',), ('CCAFS SLC-40',)]"
      ]
     },
     "execution_count": 11,
     "metadata": {},
     "output_type": "execute_result"
    }
   ],
   "source": [
    "%sql select distinct \"Launch_Site\" from SPACEXTABLE;"
   ]
  },
  {
   "cell_type": "markdown",
   "id": "3d889448-4fd4-4cfc-aa12-fecd4b3c7fbd",
   "metadata": {},
   "source": [
    "\n",
    "### Task 2\n",
    "\n",
    "\n",
    "#####  Display 5 records where launch sites begin with the string 'CCA' \n"
   ]
  },
  {
   "cell_type": "code",
   "execution_count": null,
   "id": "b5fdeb89-9411-4f8a-bfef-fb6ff2c9971d",
   "metadata": {},
   "outputs": [],
   "source": []
  },
  {
   "cell_type": "markdown",
   "id": "4532ad2b-f98b-4f3c-8525-632f47a42e77",
   "metadata": {},
   "source": [
    "### Task 3\n",
    "\n",
    "\n",
    "\n",
    "\n",
    "##### Display the total payload mass carried by boosters launched by NASA (CRS)\n"
   ]
  },
  {
   "cell_type": "code",
   "execution_count": null,
   "id": "eada13ca-eafb-4549-a453-bab04cd895d9",
   "metadata": {},
   "outputs": [],
   "source": []
  },
  {
   "cell_type": "markdown",
   "id": "aff22ac9-8d5a-433d-a1fc-af538d825691",
   "metadata": {},
   "source": [
    "### Task 4\n",
    "\n",
    "\n",
    "\n",
    "\n",
    "##### Display average payload mass carried by booster version F9 v1.1\n"
   ]
  },
  {
   "cell_type": "code",
   "execution_count": null,
   "id": "12a33e2d-16ba-4f0e-967f-0bf04f988137",
   "metadata": {},
   "outputs": [],
   "source": []
  },
  {
   "cell_type": "markdown",
   "id": "0e513dbd-a857-4047-8c72-36cbd8df583a",
   "metadata": {},
   "source": [
    "### Task 5\n",
    "\n",
    "##### List the date when the first succesful landing outcome in ground pad was acheived.\n",
    "\n",
    "\n",
    "_Hint:Use min function_ \n"
   ]
  },
  {
   "cell_type": "code",
   "execution_count": null,
   "id": "1229aba2-a23a-4bed-ae84-d7dadb5cab08",
   "metadata": {},
   "outputs": [],
   "source": []
  },
  {
   "cell_type": "markdown",
   "id": "af6eb132-8a99-44dc-b6ca-4659a8340fad",
   "metadata": {},
   "source": [
    "### Task 6\n",
    "\n",
    "##### List the names of the boosters which have success in drone ship and have payload mass greater than 4000 but less than 6000\n"
   ]
  },
  {
   "cell_type": "code",
   "execution_count": null,
   "id": "9664cac3-e25e-4cd3-89b5-d2589fab9b0b",
   "metadata": {},
   "outputs": [],
   "source": []
  },
  {
   "cell_type": "markdown",
   "id": "27b94807-a798-43f8-b20e-bf4b2052406e",
   "metadata": {},
   "source": [
    "### Task 7\n",
    "\n",
    "\n",
    "\n",
    "\n",
    "##### List the total number of successful and failure mission outcomes\n"
   ]
  },
  {
   "cell_type": "code",
   "execution_count": null,
   "id": "1df1d358-7d7b-4d73-a1aa-68700ceacc76",
   "metadata": {},
   "outputs": [],
   "source": []
  },
  {
   "cell_type": "markdown",
   "id": "c9a92ec1-78d8-4bba-bda7-1c08767e5c76",
   "metadata": {},
   "source": [
    "### Task 8\n",
    "\n",
    "\n",
    "\n",
    "##### List all the booster_versions that have carried the maximum payload mass. Use a subquery.\n"
   ]
  },
  {
   "cell_type": "code",
   "execution_count": null,
   "id": "c424c83b-271d-4235-839e-e7de56975aaa",
   "metadata": {},
   "outputs": [],
   "source": []
  },
  {
   "cell_type": "markdown",
   "id": "90d9ee15-e931-4bed-afbe-068e82548d56",
   "metadata": {},
   "source": [
    "### Task 9\n",
    "\n",
    "\n",
    "##### List the records which will display the month names, failure landing_outcomes in drone ship ,booster versions, launch_site for the months in year 2015.\n",
    "\n",
    "**Note: SQLLite does not support monthnames. So you need to use  substr(Date, 6,2) as month to get the months and substr(Date,0,5)='2015' for year.**\n"
   ]
  },
  {
   "cell_type": "code",
   "execution_count": null,
   "id": "fca4fdbf-8c88-4811-8d35-42888e6526ed",
   "metadata": {},
   "outputs": [],
   "source": []
  },
  {
   "cell_type": "markdown",
   "id": "873c551f-636f-44b6-8d89-f1a5395921eb",
   "metadata": {},
   "source": [
    "### Task 10\n",
    "\n",
    "\n",
    "\n",
    "\n",
    "##### Rank the count of landing outcomes (such as Failure (drone ship) or Success (ground pad)) between the date 2010-06-04 and 2017-03-20, in descending order.\n"
   ]
  },
  {
   "cell_type": "code",
   "execution_count": null,
   "id": "e40812d1-b43b-4aff-a295-3cc4571c3c2e",
   "metadata": {},
   "outputs": [],
   "source": []
  },
  {
   "cell_type": "markdown",
   "id": "130812e1-5e0e-4f70-8171-62b30ae6b812",
   "metadata": {},
   "source": [
    "### Reference Links\n",
    "\n",
    "* <a href =\"https://cf-courses-data.s3.us.cloud-object-storage.appdomain.cloud/IBMDeveloperSkillsNetwork-DB0201EN-SkillsNetwork/labs/Labs_Coursera_V5/labs/Lab%20-%20String%20Patterns%20-%20Sorting%20-%20Grouping/instructional-labs.md.html?origin=www.coursera.org\">Hands-on Lab : String Patterns, Sorting and Grouping</a>  \n",
    "\n",
    "*  <a  href=\"https://cf-courses-data.s3.us.cloud-object-storage.appdomain.cloud/IBMDeveloperSkillsNetwork-DB0201EN-SkillsNetwork/labs/Labs_Coursera_V5/labs/Lab%20-%20Built-in%20functions%20/Hands-on_Lab__Built-in_Functions.md.html?origin=www.coursera.org\">Hands-on Lab: Built-in functions</a>\n",
    "\n",
    "*  <a  href=\"https://cf-courses-data.s3.us.cloud-object-storage.appdomain.cloud/IBMDeveloperSkillsNetwork-DB0201EN-SkillsNetwork/labs/Labs_Coursera_V5/labs/Lab%20-%20Sub-queries%20and%20Nested%20SELECTs%20/instructional-labs.md.html?origin=www.coursera.org\">Hands-on Lab : Sub-queries and Nested SELECT Statements</a>\n",
    "\n",
    "*   <a href=\"https://cf-courses-data.s3.us.cloud-object-storage.appdomain.cloud/IBMDeveloperSkillsNetwork-DB0201EN-SkillsNetwork/labs/Module%205/DB0201EN-Week3-1-3-SQLmagic.ipynb\">Hands-on Tutorial: Accessing Databases with SQL magic</a>\n",
    "\n",
    "*  <a href= \"https://cf-courses-data.s3.us.cloud-object-storage.appdomain.cloud/IBMDeveloperSkillsNetwork-DB0201EN-SkillsNetwork/labs/Module%205/DB0201EN-Week3-1-4-Analyzing.ipynb\">Hands-on Lab: Analyzing a real World Data Set</a>\n",
    "\n",
    "\n"
   ]
  },
  {
   "cell_type": "markdown",
   "id": "c8d51778-8fee-4a39-bb94-03ca0ffb56ad",
   "metadata": {},
   "source": [
    "## Author(s)\n",
    "\n",
    "<h4> Lakshmi Holla </h4>\n"
   ]
  },
  {
   "cell_type": "markdown",
   "id": "691380e8-6294-47c0-a972-fd30b963b9e6",
   "metadata": {},
   "source": [
    "## Other Contributors\n",
    "\n",
    "<h4> Rav Ahuja </h4>\n"
   ]
  },
  {
   "cell_type": "markdown",
   "id": "3c8b3503-7c01-411e-96e1-f21a12c11fba",
   "metadata": {},
   "source": [
    "<!--\n",
    "## Change log\n",
    "| Date | Version | Changed by | Change Description |\n",
    "|------|--------|--------|---------|\n",
    "| 2024-07-10 | 1.1 |Anita Verma | Changed Version|\n",
    "| 2021-07-09 | 0.2 |Lakshmi Holla | Changes made in magic sql|\n",
    "| 2021-05-20 | 0.1 |Lakshmi Holla | Created Initial Version |\n",
    "-->\n"
   ]
  },
  {
   "cell_type": "markdown",
   "id": "bace9860-75a6-4424-9d97-47b638830329",
   "metadata": {},
   "source": [
    "## <h3 align=\"center\"> © IBM Corporation 2021. All rights reserved. <h3/>\n"
   ]
  }
 ],
 "metadata": {
  "kernelspec": {
   "display_name": "Python 3 (ipykernel)",
   "language": "python",
   "name": "python3"
  },
  "language_info": {
   "codemirror_mode": {
    "name": "ipython",
    "version": 3
   },
   "file_extension": ".py",
   "mimetype": "text/x-python",
   "name": "python",
   "nbconvert_exporter": "python",
   "pygments_lexer": "ipython3",
   "version": "3.10.13"
  },
  "prev_pub_hash": "18774c8928e6c688c0fbec1a14775f2c11e247049ea3a108a4750dd06f4672bb"
 },
 "nbformat": 4,
 "nbformat_minor": 4
}
